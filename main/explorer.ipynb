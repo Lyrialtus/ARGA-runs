{
 "cells": [
  {
   "cell_type": "code",
   "execution_count": null,
   "metadata": {},
   "outputs": [],
   "source": [
    "# Additional exploration"
   ]
  },
  {
   "cell_type": "code",
   "execution_count": null,
   "metadata": {},
   "outputs": [],
   "source": [
    "import json\n",
    "import numpy as np\n",
    "\n",
    "from task import Task\n",
    "from utils import plot_sample, set_types, process_task"
   ]
  },
  {
   "cell_type": "code",
   "execution_count": null,
   "metadata": {},
   "outputs": [],
   "source": [
    "train_ch_path = '../input/arc-prize-2024/arc-agi_training_challenges.json'\n",
    "train_sol_path = '../input/arc-prize-2024/arc-agi_training_solutions.json'\n",
    "eval_ch_path = '../input/arc-prize-2024/arc-agi_evaluation_challenges.json'\n",
    "eval_sol_path = '../input/arc-prize-2024/arc-agi_evaluation_solutions.json'\n",
    "test_path = '../input/arc-prize-2024/arc-agi_test_challenges.json'\n",
    "sample_path = '../input/arc-prize-2024/sample_submission.json'\n",
    "\n",
    "with open(train_ch_path, 'r', encoding='utf-8') as file:\n",
    "    train_tasks = json.load(file)\n",
    "with open(eval_ch_path, 'r', encoding='utf-8') as file:\n",
    "    eval_tasks = json.load(file)\n",
    "with open(test_path, 'r', encoding='utf-8') as file:\n",
    "    test_tasks = json.load(file)\n",
    "\n",
    "with open(train_sol_path, 'r', encoding='utf-8') as file:\n",
    "    truth_t = json.load(file)\n",
    "with open(eval_sol_path, 'r', encoding='utf-8') as file:\n",
    "    truth_e = json.load(file)\n",
    "truth = truth_t | truth_e\n",
    "\n",
    "print(len(train_tasks), len(eval_tasks), len(test_tasks), len(truth))"
   ]
  },
  {
   "cell_type": "code",
   "execution_count": null,
   "metadata": {},
   "outputs": [],
   "source": [
    "# %%script true\n",
    "# Task testing\n",
    "name = '08ed6ac7'\n",
    "process_task(train_tasks[name])\n",
    "# for train in test_tasks[name]['train']:\n",
    "#     plot_sample(train['input'], train['output'])\n",
    "task = Task(name, train_tasks[name])\n",
    "task.solve(time_limit=10, verbose=False, shared_frontier=True, constrained=True)"
   ]
  },
  {
   "cell_type": "code",
   "execution_count": null,
   "metadata": {},
   "outputs": [],
   "source": [
    "# %%script true\n",
    "import cProfile\n",
    "import pstats\n",
    "\n",
    "pr = cProfile.Profile()\n",
    "pr.enable()\n",
    "task.solve(time_limit=10)\n",
    "pr.disable()\n",
    "\n",
    "ps = pstats.Stats(pr).sort_stats('tottime')\n",
    "_ = ps.print_stats(0.02)"
   ]
  },
  {
   "cell_type": "code",
   "execution_count": null,
   "metadata": {},
   "outputs": [],
   "source": [
    "# Task control\n",
    "the_tasks = test_tasks\n",
    "# the_tasks = dict(list(test_tasks.items())[80:99])"
   ]
  },
  {
   "cell_type": "code",
   "execution_count": null,
   "metadata": {},
   "outputs": [],
   "source": [
    "def check_sol(name, sol):\n",
    "    process_task(the_tasks[name])\n",
    "    Task(name, the_tasks[name]).check_sol(sol, 'all', True)\n",
    "\n",
    "the_sol = [{'abstraction': 'nbccg',\n",
    "            'filters': ['filter_by_nothing'],\n",
    "            'filter_params': [{}],\n",
    "            'transformation': ['flip_rotate'],\n",
    "            'transformation_params': [{'flip_rotation': ('', 90)}]}]\n",
    "\n",
    "check_sol('4347f46a', the_sol)"
   ]
  },
  {
   "cell_type": "code",
   "execution_count": null,
   "metadata": {},
   "outputs": [],
   "source": [
    "def plot_diffs(tasks):\n",
    "    set_types(tasks)\n",
    "    index = 0\n",
    "    for name, task in tasks.items():\n",
    "        index += 1\n",
    "        if index not in range(300, 350) or task['type'] != 1:\n",
    "            continue\n",
    "        process_task(task)\n",
    "        if task['re']:\n",
    "            print(index, name)\n",
    "            for i in range(len(task['test'])):\n",
    "                diff = np.not_equal(task['test'][i]['input'], truth[name][i])\n",
    "                plot_sample(task['test'][i]['input'], truth[name][i], diff)\n",
    "            for i in range(len(task['train'])):\n",
    "                diff = np.not_equal(task['train'][i]['input'], task['train'][i]['output'])\n",
    "                plot_sample(task['train'][i]['input'], task['train'][i]['output'], diff)\n",
    "\n",
    "# plot_diffs(the_tasks)"
   ]
  },
  {
   "cell_type": "code",
   "execution_count": null,
   "metadata": {},
   "outputs": [],
   "source": [
    "def explore_score(name, abstraction='nbccg'):\n",
    "    process_task(the_tasks[name])\n",
    "    score = Task(name, the_tasks[name]).get_search_score()\n",
    "    print(score, '-', sum(score.values()))\n",
    "    random_index = np.random.randint(0, score[abstraction])\n",
    "    Task(name, the_tasks[name]).get_search_score(abstraction, random_index)\n",
    "\n",
    "explore_score('1bfc4729')"
   ]
  },
  {
   "cell_type": "code",
   "execution_count": null,
   "metadata": {},
   "outputs": [],
   "source": [
    "def get_search_scores(tasks):\n",
    "    set_types(tasks)\n",
    "    index = 0\n",
    "    for name, task in tasks.items():\n",
    "        index += 1\n",
    "        if task['type'] != 1:\n",
    "            continue\n",
    "        process_task(task)\n",
    "        if task['re']:\n",
    "            score = Task(name, task).get_search_score()\n",
    "            print('#', index, name, score, '-', sum(score.values()))\n",
    "\n",
    "# get_search_scores(the_tasks)"
   ]
  },
  {
   "cell_type": "code",
   "execution_count": null,
   "metadata": {},
   "outputs": [],
   "source": [
    "# t100 stable\n",
    "\n",
    "# 4 025d127b {'nag': 7, 'nbccg': 5915, 'mcccg': 7623, 'nbvccg': 3298, 'nbhccg': 4192} - 21035\n",
    "# 5 045e512c {'nag': 7, 'nbccg': 22890, 'mcccg': 19412, 'nbvccg': 7566, 'nbhccg': 8563} - 58438\n",
    "# 7 05269061 {'nag': 7, 'nbccg': 8816, 'mcccg': 2463, 'nbvccg': 4568, 'nbhccg': 4568} - 20422\n",
    "# 9 06df4c85 {'nag': 7, 'nbccg': 9422, 'mcccg': 1715, 'nbvccg': 10509, 'nbhccg': 10587} - 32240\n",
    "# 12 0962bcdd {'nag': 7, 'nbccg': 969, 'mcccg': 227, 'nbvccg': 495, 'nbhccg': 495} - 2193\n",
    "# 13 0a938d79 {'nag': 7, 'nbccg': 2684, 'mcccg': 1732, 'nbvccg': 999, 'nbhccg': 999} - 6421\n",
    "# 17 0dfd9992 {'nag': 7, 'nbccg': 45642, 'mcccg': 1393, 'nbvccg': 16055, 'nbhccg': 16068} - 79165\n",
    "# 18 0e206a2e {'nag': 7, 'nbccg': 16911, 'mcccg': 13825, 'nbvccg': 11585, 'nbhccg': 10501} - 52829\n",
    "# 20 11852cab {'nag': 7, 'nbccg': 12088, 'mcccg': 7743, 'nbvccg': 6269, 'nbhccg': 6269} - 32376\n",
    "# 25 1a07d186 {'nag': 7, 'nbccg': 10593, 'mcccg': 15745, 'nbvccg': 7742, 'nbhccg': 8841} - 42928\n",
    "# 28 1bfc4729 {'nag': 7, 'nbccg': 591, 'mcccg': 609, 'nbvccg': 391, 'nbhccg': 391} - 1989\n",
    "# 32 1e0a9b12 {'nag': 7, 'nbccg': 15402, 'mcccg': 14079, 'nbvccg': 10471, 'nbhccg': 7969} - 47928\n",
    "# 33 1e32b0e9 {'nag': 7, 'nbccg': 16443, 'mcccg': 9161, 'nbvccg': 4765, 'nbhccg': 5173} - 35549\n",
    "# 34 1f0c79e5 {'nag': 7, 'nbccg': 4035, 'mcccg': 260, 'nbvccg': 2027, 'nbhccg': 2027} - 8356\n",
    "# 35 1f642eb9 {'nag': 7, 'nbccg': 3819, 'mcccg': 250, 'nbvccg': 921, 'nbhccg': 860} - 5857\n",
    "# 37 1f876c06 {'nag': 7, 'nbccg': 11614, 'mcccg': 9195, 'nbvccg': 5918, 'nbhccg': 5931} - 32665\n",
    "# 40 2204b7a8 {'nag': 7, 'nbccg': 2904, 'mcccg': 114, 'nbvccg': 408, 'nbhccg': 457} - 3890\n",
    "# 41 22168020 {'nag': 7, 'nbccg': 4258, 'mcccg': 4284, 'nbvccg': 1988, 'nbhccg': 2899} - 13436\n",
    "# 44 228f6490 {'nag': 7, 'nbccg': 19434, 'mcccg': 41647, 'nbvccg': 13278, 'nbhccg': 14184} - 88550\n",
    "# 45 22eb0ac0 {'nag': 7, 'nbccg': 9602, 'mcccg': 7950, 'nbvccg': 6487, 'nbhccg': 6487} - 30533\n",
    "# 51 25d487eb {'nag': 7, 'nbccg': 1877, 'mcccg': 699, 'nbvccg': 4323, 'nbhccg': 4245} - 11151\n",
    "# 54 264363fd {'nag': 7, 'nbccg': 7671, 'mcccg': 21, 'nbvccg': 1837, 'nbhccg': 1851} - 11387\n",
    "# 59 29623171 {'nag': 7, 'nbccg': 3765, 'mcccg': 4594, 'nbvccg': 4327, 'nbhccg': 4457} - 17150\n",
    "# 60 29c11459 {'nag': 7, 'nbccg': 822, 'mcccg': 436, 'nbvccg': 400, 'nbhccg': 400} - 2065\n",
    "# 61 29ec7d0e {'nag': 7, 'nbccg': 50592, 'mcccg': 2277, 'nbvccg': 28184, 'nbhccg': 31435} - 112495\n",
    "# 62 2bcee788 {'nag': 7, 'nbccg': 5685, 'mcccg': 1281, 'nbvccg': 4259, 'nbhccg': 4630} - 15862\n",
    "# 64 2c608aff {'nag': 7, 'nbccg': 3030, 'mcccg': 6391, 'nbvccg': 3364, 'nbhccg': 3351} - 16143\n",
    "# 69 321b1fc6 {'nag': 7, 'nbccg': 29878, 'mcccg': 3303, 'nbvccg': 9243, 'nbhccg': 10707} - 53138\n",
    "# 71 3345333e {'nag': 7, 'nbccg': 3369, 'mcccg': 618, 'nbvccg': 6510, 'nbhccg': 4909} - 15413\n",
    "# 75 363442ee {'nag': 7, 'nbccg': 59022, 'mcccg': 10155, 'nbvccg': 14834, 'nbhccg': 16447} - 100465\n",
    "# 77 36fdfd69 {'nag': 7, 'nbccg': 6170, 'mcccg': 348, 'nbvccg': 534, 'nbhccg': 578} - 7637\n",
    "# 80 39e1d7f9 {'nag': 7, 'nbccg': 9303, 'mcccg': 1687, 'nbvccg': 8100, 'nbhccg': 8152} - 27249\n",
    "# 82 3ac3eb23 {'nag': 7, 'nbccg': 1328, 'mcccg': 1041, 'nbvccg': 661, 'nbhccg': 661} - 3698\n",
    "# 84 3bd67248 {'nag': 7, 'nbccg': 939, 'mcccg': 1848, 'nbvccg': 342, 'nbhccg': 407} - 3543\n",
    "# 85 3bdb4ada {'nag': 7, 'nbccg': 1676, 'mcccg': 4080, 'nbvccg': 2512, 'nbhccg': 1777} - 10052\n",
    "# 86 3befdf3e {'nag': 7, 'nbccg': 4333, 'mcccg': 618, 'nbvccg': 4401, 'nbhccg': 4401} - 13760\n",
    "# 87 3c9b0459 {'nag': 7, 'nbccg': 3845, 'mcccg': 15, 'nbvccg': 448, 'nbhccg': 534} - 4849\n",
    "# 89 3e980e27 {'nag': 7, 'nbccg': 36246, 'mcccg': 19813, 'nbvccg': 12601, 'nbhccg': 12614} - 81281\n",
    "# 90 3eda0437 {'nag': 7, 'nbccg': 20687, 'mcccg': 42603, 'nbvccg': 5971, 'nbhccg': 5711} - 74979\n",
    "# 92 40853293 {'nag': 7, 'nbccg': 8036, 'mcccg': 10127, 'nbvccg': 5415, 'nbhccg': 5428} - 29013\n",
    "# 93 4093f84a {'nag': 7, 'nbccg': 5357, 'mcccg': 8109, 'nbvccg': 4349, 'nbhccg': 4414} - 22236\n",
    "# 97 42a50994 {'nag': 7, 'nbccg': 5706, 'mcccg': 14402, 'nbvccg': 3067, 'nbhccg': 2148} - 25330\n",
    "# 98 4347f46a {'nag': 7, 'nbccg': 7096, 'mcccg': 15889, 'nbvccg': 10277, 'nbhccg': 10820} - 44089\n",
    "# 99 444801d8 {'nag': 7, 'nbccg': 5240, 'mcccg': 3984, 'nbvccg': 6442, 'nbhccg': 5170} - 20843"
   ]
  }
 ],
 "metadata": {
  "kernelspec": {
   "display_name": "Python 3",
   "language": "python",
   "name": "python3"
  },
  "language_info": {
   "codemirror_mode": {
    "name": "ipython",
    "version": 3
   },
   "file_extension": ".py",
   "mimetype": "text/x-python",
   "name": "python",
   "nbconvert_exporter": "python",
   "pygments_lexer": "ipython3",
   "version": "3.12.4"
  }
 },
 "nbformat": 4,
 "nbformat_minor": 2
}
