{
 "cells": [
  {
   "cell_type": "code",
   "execution_count": null,
   "metadata": {},
   "outputs": [],
   "source": [
    "# ARGA refactoring project"
   ]
  },
  {
   "cell_type": "code",
   "execution_count": null,
   "metadata": {},
   "outputs": [],
   "source": [
    "import json\n",
    "import time\n",
    "import numpy as np\n",
    "\n",
    "from task import Task\n",
    "from utils import plot_sample, set_types, process_task"
   ]
  },
  {
   "cell_type": "code",
   "execution_count": null,
   "metadata": {},
   "outputs": [],
   "source": [
    "train_ch_path = '../input/arc-prize-2024/arc-agi_training_challenges.json'\n",
    "train_sol_path = '../input/arc-prize-2024/arc-agi_training_solutions.json'\n",
    "eval_ch_path = '../input/arc-prize-2024/arc-agi_evaluation_challenges.json'\n",
    "eval_sol_path = '../input/arc-prize-2024/arc-agi_evaluation_solutions.json'\n",
    "test_path = '../input/arc-prize-2024/arc-agi_test_challenges.json'\n",
    "sample_path = '../input/arc-prize-2024/sample_submission.json'\n",
    "\n",
    "with open(train_ch_path, 'r', encoding='utf-8') as file:\n",
    "    train_tasks = json.load(file)\n",
    "with open(eval_ch_path, 'r', encoding='utf-8') as file:\n",
    "    eval_tasks = json.load(file)\n",
    "with open(test_path, 'r', encoding='utf-8') as file:\n",
    "    test_tasks = json.load(file)\n",
    "\n",
    "with open(train_sol_path, 'r', encoding='utf-8') as file:\n",
    "    truth_t = json.load(file)\n",
    "with open(eval_sol_path, 'r', encoding='utf-8') as file:\n",
    "    truth_e = json.load(file)\n",
    "truth = truth_t | truth_e\n",
    "\n",
    "print(len(train_tasks), len(eval_tasks), len(test_tasks), len(truth))"
   ]
  },
  {
   "cell_type": "code",
   "execution_count": null,
   "metadata": {},
   "outputs": [],
   "source": [
    "def solve_task(name, task, limit=10, stats=None):\n",
    "    task = Task(name, task)\n",
    "    return task.solve(time_limit=limit, stats=stats)\n",
    "\n",
    "def solve_all(tasks, limit=10):\n",
    "    start_time = time.time()\n",
    "    predictions = {}\n",
    "    stats = {}\n",
    "    index = 0\n",
    "    count = 0\n",
    "    for name, task in tasks.items():\n",
    "        index += 1\n",
    "        if task['type'] == 1:\n",
    "            duration = time.time() - start_time\n",
    "            hh = int(duration / 3600)\n",
    "            mm = int(duration % 3600 / 60)\n",
    "            ss = int(duration % 60)\n",
    "            print(f'{int(100*index/len(tasks))}% | {index}/{len(tasks)} [{hh:02}:{mm:02}:{ss:02}]')\n",
    "            count += 1\n",
    "            stats[name] = f'{count:3} {index:3} {name}'\n",
    "            process_task(task)\n",
    "            prediction = solve_task(name, task, limit, stats)\n",
    "        else:\n",
    "            prediction = [[[0, 0], [0, 0]]] * len(task['test'])\n",
    "        predictions[name] = prediction\n",
    "    return predictions, stats\n",
    "\n",
    "def run_main(tasks, limit=10):\n",
    "    set_types(tasks)\n",
    "    predictions, stats = solve_all(tasks, limit)\n",
    "    submission = {}\n",
    "    for name, task in tasks.items():\n",
    "        submission[name] = []\n",
    "        for i in range(len(task['test'])):\n",
    "            submission[name].append(\n",
    "                {'attempt_1': predictions[name][i],\n",
    "                 'attempt_2': [[0, 0], [0, 0]]})\n",
    "\n",
    "    with open('submission.json', 'w', encoding='utf-8') as sub_file:\n",
    "        json.dump(submission, sub_file)\n",
    "    return stats\n",
    "\n",
    "def observe_results(tasks, stats=None):\n",
    "    with open('submission.json', 'r', encoding='utf-8') as file:\n",
    "        submission = json.load(file)\n",
    "\n",
    "    predictions = {}\n",
    "    for name, attempts in submission.items():\n",
    "        predictions[name] = []\n",
    "        for i in range(len(attempts)):\n",
    "            predictions[name].append(attempts[i]['attempt_1'])\n",
    "\n",
    "    scores = []\n",
    "    for name, prediction in predictions.items():\n",
    "        score = [0 if np.shape(true_grid) != np.shape(grid) else int(\n",
    "            np.equal(true_grid, grid).all()) for true_grid, grid in zip(truth[name], prediction)]\n",
    "        scores.append(score)\n",
    "\n",
    "    solved = [any(score) for score in scores]\n",
    "    percent_solved = 100 * sum(solved) / len(solved)\n",
    "    print(f'Solved: {sum(solved)} from {len(solved)} ({percent_solved:g}%)', end='\\n\\n')\n",
    "\n",
    "    if stats is not None:\n",
    "        summary = {'tn': 0, 'fn': 0, 'fp': 0, 'tp': 0}\n",
    "        print('  # IDX  ID/Name   Time Train  Test')\n",
    "        for entry in stats.values():\n",
    "            print(entry)\n",
    "            if entry.find('False False') > 0:\n",
    "                summary['tn'] += 1\n",
    "            if entry.find('False True') > 0:\n",
    "                summary['fn'] += 1\n",
    "            if entry.find('True  False') > 0:\n",
    "                summary['fp'] += 1\n",
    "            if entry.find('True  True') > 0:\n",
    "                summary['tp'] += 1\n",
    "        print('', summary, '', sep='\\n')\n",
    "\n",
    "    count = 0\n",
    "    index = 0\n",
    "    for name, prediction, right in zip(predictions.keys(), predictions.values(), solved):\n",
    "        task = tasks[name]\n",
    "        index += 1\n",
    "        if prediction != [[[0, 0], [0, 0]]] * len(task['test']):\n",
    "            count += 1\n",
    "            print(count, index, name, right)\n",
    "            for i in range(len(task['test'])):\n",
    "                plot_sample(task['test'][i]['input'], truth[name][i], prediction[i])"
   ]
  },
  {
   "cell_type": "code",
   "execution_count": null,
   "metadata": {},
   "outputs": [],
   "source": [
    "# Task control\n",
    "the_stats = None\n",
    "the_tasks = test_tasks\n",
    "time_limit = 10"
   ]
  },
  {
   "cell_type": "code",
   "execution_count": null,
   "metadata": {},
   "outputs": [],
   "source": [
    "the_stats = run_main(the_tasks, time_limit)"
   ]
  },
  {
   "cell_type": "code",
   "execution_count": null,
   "metadata": {},
   "outputs": [],
   "source": [
    "if '007bbfb7' in test_tasks.keys():\n",
    "    observe_results(the_tasks, the_stats)"
   ]
  }
 ],
 "metadata": {
  "kernelspec": {
   "display_name": "Python 3",
   "language": "python",
   "name": "python3"
  },
  "language_info": {
   "codemirror_mode": {
    "name": "ipython",
    "version": 3
   },
   "file_extension": ".py",
   "mimetype": "text/x-python",
   "name": "python",
   "nbconvert_exporter": "python",
   "pygments_lexer": "ipython3",
   "version": "3.12.4"
  }
 },
 "nbformat": 4,
 "nbformat_minor": 2
}
