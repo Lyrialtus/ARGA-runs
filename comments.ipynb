{
 "cells": [
  {
   "cell_type": "code",
   "execution_count": null,
   "metadata": {},
   "outputs": [],
   "source": [
    "# Dev comments! (Don't expect much.)"
   ]
  },
  {
   "cell_type": "code",
   "execution_count": null,
   "metadata": {},
   "outputs": [
    {
     "data": {
      "text/plain": [
       "110.52631578947368"
      ]
     },
     "execution_count": 2,
     "metadata": {},
     "output_type": "execute_result"
    }
   ],
   "source": [
    "# The original ARGA performance: 57 tasks?\n",
    "100*63/57"
   ]
  },
  {
   "cell_type": "code",
   "execution_count": null,
   "metadata": {},
   "outputs": [],
   "source": [
    "# Alternative base tech:\n",
    "# https://github.com/Qiskit/rustworkx"
   ]
  },
  {
   "cell_type": "code",
   "execution_count": null,
   "metadata": {},
   "outputs": [],
   "source": [
    "# Task types:\n",
    "\n",
    "# 1 - input shape == output shape\n",
    "# 2 - not 1, but all output shapes are the same\n",
    "# 3 - not 1 and not 2"
   ]
  },
  {
   "cell_type": "markdown",
   "metadata": {},
   "source": [
    "| tasks | type 1 | type 2 | type 3 |\n",
    "| :-: | :-: | :-: | :-: |\n",
    "| train | 262 (65.5%) | 76 (19%) | 62 (15.5%) |\n",
    "| eval | 270 (67.5%) | 68 (17%) | 62 (15.5%) |"
   ]
  },
  {
   "cell_type": "code",
   "execution_count": null,
   "metadata": {},
   "outputs": [],
   "source": [
    "# To do or not to do\n",
    "\n",
    "# Current:\n",
    "# Combinatorial state space search improvement\n",
    "\n",
    "# Actionable:\n",
    "# Broadly search for ideas\n",
    "# Implement type 2\n",
    "# Sols with step-wise abstractions?\n",
    "# Init times need checking, separate limit?\n",
    "# Extend with color (too difficult?)\n",
    "# Slot abstraction (doesn't work)\n",
    "# 3 forms of relative position?\n",
    "# How deep to hollow/fill rectangles?\n",
    "# Fill: bg only or all\n",
    "# Limit depth descend?\n",
    "# Small-size queue dropping bad scores?\n",
    "# Standalone abstraction plotter\n",
    "# Step-score interactive visualizer\n",
    "# Node-less transformations?\n",
    "# Anti-combinatorial diffs?\n",
    "\n",
    "# Ideas:\n",
    "# Abstraction selection!\n",
    "# Distance relation?\n",
    "# Copy-to-position transformation\n",
    "# Fill rectangle == hollow rectangle?\n",
    "# Just fill! Fill all, fill connected...\n",
    "# Fixed-output tasks: projections!\n",
    "# Scaling transformation\n",
    "# Connecting dots by direction in order?\n",
    "# Growing patterns...\n",
    "# Counting pixels and counting objects\n",
    "# Copy-move by x and y\n",
    "# Checking objects on the line\n",
    "# Projection-intersection\n",
    "# Finding helper object\n",
    "# Finding seeds\n",
    "# Shape-to-shape\n",
    "# Shape detection?\n",
    "# Shape-color association\n",
    "# Size-color mapping to...\n",
    "# Abstraction direction detection\n",
    "# Noise... Probably too difficult to handle\n",
    "# Extend by direction separately...\n",
    "# Recolor intersections\n",
    "# Move to matching color or shape\n",
    "# Move and merge\n",
    "# Pair-wise scoring?\n",
    "# Pattern signature?\n",
    "# Steps on repeat\n",
    "# Fit rectangle\n",
    "# Detect scaling?\n",
    "# Detect matching measurements?\n",
    "\n",
    "# Progress:\n",
    "# This is for long... OK\n",
    "# Make a summary with all tasks, plus summary summary. Done\n",
    "# This project deserves even more work! Done\n",
    "# Solution info extraction is needed. Searching...\n",
    "# The lack of hashing is not OK\n",
    "# Alright, hashing fixed\n",
    "# Tabu fixed too?\n",
    "# Depth-independent speed!\n",
    "# Even better colors?\n",
    "# Multi-test tasks are not for recoloring\n",
    "# Z-index added, it's OK?\n",
    "# No update_abstracted_graph is OK?\n",
    "# No plotting, no self.arc_graph\n",
    "# Task rotation is not the way"
   ]
  },
  {
   "cell_type": "code",
   "execution_count": null,
   "metadata": {},
   "outputs": [],
   "source": [
    "# The balance?\n",
    "\n",
    "# Maybe every feature needs a heuristic\n",
    "# The whole system with a search score\n",
    "# The search goes from heuristic to combinatorial\n",
    "# The score is both heuristic- and task-dependent\n",
    "# The DSL expansion should keep the balance\n",
    "# Transformations should limit filters?\n",
    "# Pre-select best combinations?\n",
    "# Estimate solution distance?\n",
    "# Discard suboptimal combinations?\n",
    "# Heuristic constraints are the key?\n",
    "\n",
    "# No... I just can't do it..."
   ]
  }
 ],
 "metadata": {
  "kernelspec": {
   "display_name": "Python 3",
   "language": "python",
   "name": "python3"
  },
  "language_info": {
   "codemirror_mode": {
    "name": "ipython",
    "version": 3
   },
   "file_extension": ".py",
   "mimetype": "text/x-python",
   "name": "python",
   "nbconvert_exporter": "python",
   "pygments_lexer": "ipython3",
   "version": "3.12.4"
  }
 },
 "nbformat": 4,
 "nbformat_minor": 2
}
